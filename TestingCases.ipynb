{
 "cells": [
  {
   "cell_type": "code",
   "execution_count": null,
   "metadata": {},
   "outputs": [],
   "source": [
    "from langchain_core.messages import HumanMessage, SystemMessage\n",
    "from langchain_gigachat.chat_models import GigaChat\n",
    "from langchain_core.prompts import PromptTemplate\n",
    "\n",
    "\n",
    "giga = GigaChat(\n",
    "    # Для авторизации запросов используйте ключ, полученный в проекте GigaChat API\n",
    "    credentials=\"YjBiMGE1YWQtMjNiMS00YTI0LTg4MGItN2NmYjYzNTE5M2RhOmRmNjM1ZGRjLThmYTEtNDViNy1iMDA0LTFmODZiMGY4NTgxNA==\",\n",
    "    verify_ssl_certs=False,\n",
    ")\n",
    "\n",
    "\n",
    "def read_email_from_file(file_path: str):\n",
    "    \"\"\"Считывает тему, отправителя и текст письма из файла.\"\"\"\n",
    "    with open(file_path, \"r\", encoding=\"utf-8\") as file:\n",
    "        lines = file.readlines()\n",
    "    sender = lines[0].strip()\n",
    "    subject = lines[1].strip()\n",
    "    content = \" \".join(line.strip() for line in lines[2:])\n",
    "    return subject, sender, content\n",
    "\n",
    "# Функция для анализа важности письма\n",
    "def analyze_email(subject: str, sender: str, content: str) -> str:\n",
    "    \"\"\"Анализирует письмо и определяет его важность.\"\"\"\n",
    "    prompt_template = PromptTemplate(\n",
    "        input_variables=[\"subject\", \"sender\", \"content\"],\n",
    "        template=(\n",
    "            \"Тема письма: {subject}\\n\"\n",
    "            \"Отправитель: {sender}\\n\"\n",
    "            \"Текст письма: {content}\\n\\n\"\n",
    "            \"Определи, насколько это письмо важно для получателя (высокая, средняя, низкая важность) и объясни почему.\"\n",
    "        ),\n",
    "    )\n",
    "    \n",
    "    prompt = prompt_template.format(subject=subject, sender=sender, content=content)\n",
    "    response = giga([HumanMessage(content=prompt)])\n",
    "    \n",
    "    return response.content\n",
    "\n",
    "# Пример использования\n",
    "if __name__ == \"__main__\":\n",
    "    file_path = \"email_test_v1/email3.txt\"  # Укажите путь к файлу с письмом\n",
    "    subject, sender, content = read_email_from_file(file_path)\n",
    "    importance = analyze_email(subject, sender, content)\n",
    "    print(\"Результат анализа:\", importance)"
   ]
  },
  {
   "cell_type": "markdown",
   "metadata": {},
   "source": [
    "Тест-кейс 1\n",
    "trigger = false\n",
    "boss = false"
   ]
  },
  {
   "cell_type": "markdown",
   "metadata": {},
   "source": [
    "Тест-кейс 2\n",
    "trigger = false\n",
    "boss = true"
   ]
  },
  {
   "cell_type": "markdown",
   "metadata": {},
   "source": [
    "Тест-кейс 3\n",
    "trigger = true\n",
    "boss = false"
   ]
  },
  {
   "cell_type": "markdown",
   "metadata": {},
   "source": [
    "Тест-кейс 4\n",
    "trigger = true\n",
    "boss = true"
   ]
  },
  {
   "cell_type": "markdown",
   "metadata": {},
   "source": []
  }
 ],
 "metadata": {
  "kernelspec": {
   "display_name": ".venv",
   "language": "python",
   "name": "python3"
  },
  "language_info": {
   "codemirror_mode": {
    "name": "ipython",
    "version": 3
   },
   "file_extension": ".py",
   "mimetype": "text/x-python",
   "name": "python",
   "nbconvert_exporter": "python",
   "pygments_lexer": "ipython3",
   "version": "3.11.9"
  }
 },
 "nbformat": 4,
 "nbformat_minor": 2
}
