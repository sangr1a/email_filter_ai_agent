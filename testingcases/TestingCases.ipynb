{
 "cells": [
  {
   "cell_type": "code",
   "execution_count": null,
   "metadata": {},
   "outputs": [
    {
     "name": "stdout",
     "output_type": "stream",
     "text": [
      "Collecting psycopg2\n",
      "  Using cached psycopg2-2.9.10-cp311-cp311-win_amd64.whl.metadata (5.0 kB)\n",
      "Using cached psycopg2-2.9.10-cp311-cp311-win_amd64.whl (1.2 MB)\n",
      "Installing collected packages: psycopg2\n",
      "Successfully installed psycopg2-2.9.10\n",
      "Note: you may need to restart the kernel to use updated packages.\n"
     ]
    }
   ],
   "source": [
    "#pip install psycopg2"
   ]
  },
  {
   "cell_type": "code",
   "execution_count": 2,
   "metadata": {},
   "outputs": [],
   "source": [
    "import os\n",
    "import psycopg2\n",
    "\n",
    "# Настройки подключения к БД\n",
    "DB_CONFIG = {\n",
    "    \"dbname\": \"email_ai\",\n",
    "    \"user\": \"postgres\",  # Замени на свой логин\n",
    "    \"password\": \"admin\",  # Укажи свой пароль\n",
    "    \"host\": \"localhost\",\n",
    "    \"port\": \"5432\",\n",
    "}\n",
    "\n",
    "def get_db_connection():\n",
    "    \"\"\"Создает подключение к базе данных\"\"\"\n",
    "    return psycopg2.connect(**DB_CONFIG)\n",
    "\n",
    "def fetch_bosses():\n",
    "    \"\"\"Получает список боссов из базы\"\"\"\n",
    "    conn = get_db_connection()\n",
    "    cursor = conn.cursor()\n",
    "    cursor.execute(\"SELECT name FROM bosses;\")\n",
    "    bosses = [row[0] for row in cursor.fetchall()]\n",
    "    conn.close()\n",
    "    return bosses\n",
    "\n",
    "def fetch_trigger_words():\n",
    "    \"\"\"Получает список триггерных слов из базы\"\"\"\n",
    "    conn = get_db_connection()\n",
    "    cursor = conn.cursor()\n",
    "    cursor.execute(\"SELECT word FROM trigger_words;\")\n",
    "    words = [row[0] for row in cursor.fetchall()]\n",
    "    conn.close()\n",
    "    return words\n",
    "\n",
    "def fetch_prompt(label):\n",
    "    \"\"\"Получает соответствующий промпт по метке\"\"\"\n",
    "    conn = get_db_connection()\n",
    "    cursor = conn.cursor()\n",
    "    cursor.execute(\"SELECT prompt FROM prompts WHERE label = %s;\", (label,))\n",
    "    result = cursor.fetchone()\n",
    "    conn.close()\n",
    "    return result[0] if result else \"\"\n"
   ]
  },
  {
   "cell_type": "code",
   "execution_count": null,
   "metadata": {},
   "outputs": [
    {
     "name": "stdout",
     "output_type": "stream",
     "text": [
      "Collecting langchain-gigachat\n",
      "  Using cached langchain_gigachat-0.3.8-py3-none-any.whl.metadata (2.9 kB)\n",
      "Collecting gigachat<0.2.0,>=0.1.39 (from langchain-gigachat)\n",
      "  Using cached gigachat-0.1.39.post1-py3-none-any.whl.metadata (14 kB)\n",
      "Collecting langchain-core<0.4,>=0.3 (from langchain-gigachat)\n",
      "  Downloading langchain_core-0.3.48-py3-none-any.whl.metadata (5.9 kB)\n",
      "Collecting types-requests<3.0,>=2.32 (from langchain-gigachat)\n",
      "  Using cached types_requests-2.32.0.20250306-py3-none-any.whl.metadata (2.3 kB)\n",
      "Collecting httpx<1 (from gigachat<0.2.0,>=0.1.39->langchain-gigachat)\n",
      "  Using cached httpx-0.28.1-py3-none-any.whl.metadata (7.1 kB)\n",
      "Collecting pydantic>=1 (from gigachat<0.2.0,>=0.1.39->langchain-gigachat)\n",
      "  Using cached pydantic-2.10.6-py3-none-any.whl.metadata (30 kB)\n",
      "Collecting langsmith<0.4,>=0.1.125 (from langchain-core<0.4,>=0.3->langchain-gigachat)\n",
      "  Using cached langsmith-0.3.18-py3-none-any.whl.metadata (15 kB)\n",
      "Collecting tenacity!=8.4.0,<10.0.0,>=8.1.0 (from langchain-core<0.4,>=0.3->langchain-gigachat)\n",
      "  Using cached tenacity-9.0.0-py3-none-any.whl.metadata (1.2 kB)\n",
      "Collecting jsonpatch<2.0,>=1.33 (from langchain-core<0.4,>=0.3->langchain-gigachat)\n",
      "  Using cached jsonpatch-1.33-py2.py3-none-any.whl.metadata (3.0 kB)\n",
      "Collecting PyYAML>=5.3 (from langchain-core<0.4,>=0.3->langchain-gigachat)\n",
      "  Using cached PyYAML-6.0.2-cp311-cp311-win_amd64.whl.metadata (2.1 kB)\n",
      "Requirement already satisfied: packaging<25,>=23.2 in c:\\users\\sovas\\onedrive\\документы\\email_filter_ai_agent\\.venv\\lib\\site-packages (from langchain-core<0.4,>=0.3->langchain-gigachat) (24.2)\n",
      "Requirement already satisfied: typing-extensions>=4.7 in c:\\users\\sovas\\onedrive\\документы\\email_filter_ai_agent\\.venv\\lib\\site-packages (from langchain-core<0.4,>=0.3->langchain-gigachat) (4.12.2)\n",
      "Collecting urllib3>=2 (from types-requests<3.0,>=2.32->langchain-gigachat)\n",
      "  Using cached urllib3-2.3.0-py3-none-any.whl.metadata (6.5 kB)\n",
      "Collecting anyio (from httpx<1->gigachat<0.2.0,>=0.1.39->langchain-gigachat)\n",
      "  Using cached anyio-4.9.0-py3-none-any.whl.metadata (4.7 kB)\n",
      "Collecting certifi (from httpx<1->gigachat<0.2.0,>=0.1.39->langchain-gigachat)\n",
      "  Using cached certifi-2025.1.31-py3-none-any.whl.metadata (2.5 kB)\n",
      "Collecting httpcore==1.* (from httpx<1->gigachat<0.2.0,>=0.1.39->langchain-gigachat)\n",
      "  Using cached httpcore-1.0.7-py3-none-any.whl.metadata (21 kB)\n",
      "Collecting idna (from httpx<1->gigachat<0.2.0,>=0.1.39->langchain-gigachat)\n",
      "  Using cached idna-3.10-py3-none-any.whl.metadata (10 kB)\n",
      "Collecting h11<0.15,>=0.13 (from httpcore==1.*->httpx<1->gigachat<0.2.0,>=0.1.39->langchain-gigachat)\n",
      "  Using cached h11-0.14.0-py3-none-any.whl.metadata (8.2 kB)\n",
      "Collecting jsonpointer>=1.9 (from jsonpatch<2.0,>=1.33->langchain-core<0.4,>=0.3->langchain-gigachat)\n",
      "  Using cached jsonpointer-3.0.0-py2.py3-none-any.whl.metadata (2.3 kB)\n",
      "Collecting orjson<4.0.0,>=3.9.14 (from langsmith<0.4,>=0.1.125->langchain-core<0.4,>=0.3->langchain-gigachat)\n",
      "  Downloading orjson-3.10.16-cp311-cp311-win_amd64.whl.metadata (42 kB)\n",
      "Collecting requests<3,>=2 (from langsmith<0.4,>=0.1.125->langchain-core<0.4,>=0.3->langchain-gigachat)\n",
      "  Using cached requests-2.32.3-py3-none-any.whl.metadata (4.6 kB)\n",
      "Collecting requests-toolbelt<2.0.0,>=1.0.0 (from langsmith<0.4,>=0.1.125->langchain-core<0.4,>=0.3->langchain-gigachat)\n",
      "  Using cached requests_toolbelt-1.0.0-py2.py3-none-any.whl.metadata (14 kB)\n",
      "Collecting zstandard<0.24.0,>=0.23.0 (from langsmith<0.4,>=0.1.125->langchain-core<0.4,>=0.3->langchain-gigachat)\n",
      "  Using cached zstandard-0.23.0-cp311-cp311-win_amd64.whl.metadata (3.0 kB)\n",
      "Collecting annotated-types>=0.6.0 (from pydantic>=1->gigachat<0.2.0,>=0.1.39->langchain-gigachat)\n",
      "  Using cached annotated_types-0.7.0-py3-none-any.whl.metadata (15 kB)\n",
      "Collecting pydantic-core==2.27.2 (from pydantic>=1->gigachat<0.2.0,>=0.1.39->langchain-gigachat)\n",
      "  Using cached pydantic_core-2.27.2-cp311-cp311-win_amd64.whl.metadata (6.7 kB)\n",
      "Collecting charset-normalizer<4,>=2 (from requests<3,>=2->langsmith<0.4,>=0.1.125->langchain-core<0.4,>=0.3->langchain-gigachat)\n",
      "  Using cached charset_normalizer-3.4.1-cp311-cp311-win_amd64.whl.metadata (36 kB)\n",
      "Collecting sniffio>=1.1 (from anyio->httpx<1->gigachat<0.2.0,>=0.1.39->langchain-gigachat)\n",
      "  Using cached sniffio-1.3.1-py3-none-any.whl.metadata (3.9 kB)\n",
      "Using cached langchain_gigachat-0.3.8-py3-none-any.whl (26 kB)\n",
      "Using cached gigachat-0.1.39.post1-py3-none-any.whl (67 kB)\n",
      "Downloading langchain_core-0.3.48-py3-none-any.whl (418 kB)\n",
      "Using cached types_requests-2.32.0.20250306-py3-none-any.whl (20 kB)\n",
      "Using cached httpx-0.28.1-py3-none-any.whl (73 kB)\n",
      "Using cached httpcore-1.0.7-py3-none-any.whl (78 kB)\n",
      "Using cached jsonpatch-1.33-py2.py3-none-any.whl (12 kB)\n",
      "Using cached langsmith-0.3.18-py3-none-any.whl (351 kB)\n",
      "Using cached pydantic-2.10.6-py3-none-any.whl (431 kB)\n",
      "Using cached pydantic_core-2.27.2-cp311-cp311-win_amd64.whl (2.0 MB)\n",
      "Using cached PyYAML-6.0.2-cp311-cp311-win_amd64.whl (161 kB)\n",
      "Using cached tenacity-9.0.0-py3-none-any.whl (28 kB)\n",
      "Using cached urllib3-2.3.0-py3-none-any.whl (128 kB)\n",
      "Using cached annotated_types-0.7.0-py3-none-any.whl (13 kB)\n",
      "Using cached jsonpointer-3.0.0-py2.py3-none-any.whl (7.6 kB)\n",
      "Downloading orjson-3.10.16-cp311-cp311-win_amd64.whl (133 kB)\n",
      "Using cached requests-2.32.3-py3-none-any.whl (64 kB)\n",
      "Using cached certifi-2025.1.31-py3-none-any.whl (166 kB)\n",
      "Using cached idna-3.10-py3-none-any.whl (70 kB)\n",
      "Using cached requests_toolbelt-1.0.0-py2.py3-none-any.whl (54 kB)\n",
      "Using cached zstandard-0.23.0-cp311-cp311-win_amd64.whl (495 kB)\n",
      "Using cached anyio-4.9.0-py3-none-any.whl (100 kB)\n",
      "Using cached charset_normalizer-3.4.1-cp311-cp311-win_amd64.whl (102 kB)\n",
      "Using cached h11-0.14.0-py3-none-any.whl (58 kB)\n",
      "Using cached sniffio-1.3.1-py3-none-any.whl (10 kB)\n",
      "Installing collected packages: zstandard, urllib3, tenacity, sniffio, PyYAML, pydantic-core, orjson, jsonpointer, idna, h11, charset-normalizer, certifi, annotated-types, types-requests, requests, pydantic, jsonpatch, httpcore, anyio, requests-toolbelt, httpx, langsmith, gigachat, langchain-core, langchain-gigachat\n",
      "Successfully installed PyYAML-6.0.2 annotated-types-0.7.0 anyio-4.9.0 certifi-2025.1.31 charset-normalizer-3.4.1 gigachat-0.1.39.post1 h11-0.14.0 httpcore-1.0.7 httpx-0.28.1 idna-3.10 jsonpatch-1.33 jsonpointer-3.0.0 langchain-core-0.3.48 langchain-gigachat-0.3.8 langsmith-0.3.18 orjson-3.10.16 pydantic-2.10.6 pydantic-core-2.27.2 requests-2.32.3 requests-toolbelt-1.0.0 sniffio-1.3.1 tenacity-9.0.0 types-requests-2.32.0.20250306 urllib3-2.3.0 zstandard-0.23.0\n",
      "Note: you may need to restart the kernel to use updated packages.\n"
     ]
    }
   ],
   "source": [
    "#pip install langchain-gigachat"
   ]
  },
  {
   "cell_type": "code",
   "execution_count": null,
   "metadata": {},
   "outputs": [],
   "source": [
    "from langchain_core.messages import HumanMessage, SystemMessage\n",
    "from langchain_gigachat.chat_models import GigaChat\n",
    "from langchain_core.prompts import PromptTemplate\n",
    "\n",
    "\n",
    "giga = GigaChat(\n",
    "    # Для авторизации запросов используйте ключ, полученный в проекте GigaChat API\n",
    "    credentials=\"YjBiMGE1YWQtMjNiMS00YTI0LTg4MGItN2NmYjYzNTE5M2RhOjdmN2U5MzRkLTQ2YzYtNDNmYy05MTQ4LTI0NjM4MjFjOGQ0Mw====\",\n",
    "    verify_ssl_certs=False,\n",
    ")\n",
    "\n",
    "# Списки боссов и триггерных слов\n",
    "BOSSES = [\"Фишер\", \"Ларионов\", \"Смольянинова\", \"Греф\"]\n",
    "TRIGGER_WORDS = [\"инцидент\", \"сбой\", \"авария\", \"блокировка\"]\n",
    "\n",
    "instruction=\"1. если отключаем боевой сервер - предварительно уведомляем сотрудников по почте. 2. отключения можно производить строго с 18:00 до 06:00. 3. кратко опишите возникшую проблему простым языком. 4.придерживайтесь принципа деловой переписки\"\n",
    "\n",
    "# Функция для чтения письма из файла\n",
    "def read_email_from_file(file_path: str):\n",
    "    \"\"\"Считывает тему, отправителя и текст письма из файла.\"\"\"\n",
    "    with open(file_path, \"r\", encoding=\"utf-8\") as file:\n",
    "        lines = file.readlines()\n",
    "    sender = lines[0].strip()\n",
    "    subject = lines[2].strip()\n",
    "    content = \" \".join(line.strip() for line in lines[4:])\n",
    "    return subject, sender, content\n",
    "\n",
    "# Функция для анализа важности письма\n",
    "def analyze_email(subject: str, sender: str, content: str):\n",
    "    \"\"\"Анализ письма с учетом данных из БД\"\"\"\n",
    "    BOSSES = fetch_bosses()\n",
    "    TRIGGER_WORDS = fetch_trigger_words()\n",
    "\n",
    "    sender_boss = sender in BOSSES\n",
    "    trigger_word = any(word in content.lower() for word in TRIGGER_WORDS)\n",
    "\n",
    "    # Определяем тип письма\n",
    "    if sender_boss and trigger_word:\n",
    "        label = \"mail_boss_and_trigger\"\n",
    "    elif sender_boss:\n",
    "        label = \"mail_boss\"\n",
    "    elif trigger_word:\n",
    "        label = \"mail_trigger\"\n",
    "    else:\n",
    "        label = \"mail_simple\"\n",
    "\n",
    "    prompt_text = fetch_prompt(label)\n",
    "\n",
    "    if prompt_text:\n",
    "        response = giga([HumanMessage(content=prompt_text)])\n",
    "        return f\"Маркировка: {label}\\nОтвет GigaChat: {response.content}\"\n",
    "    else:\n",
    "        return f\"Маркировка: {label} (Нет необходимости в ответе)\"\n"
   ]
  },
  {
   "cell_type": "code",
   "execution_count": null,
   "metadata": {},
   "outputs": [],
   "source": [
    "# Вебхук для бота\n",
    "@app.route(\"/webhook\", methods=[\"POST\"])\n",
    "def webhook():\n",
    "    data = request.json\n",
    "\n",
    "    sender = data.get(\"sender\")\n",
    "    content = data.get(\"message\")\n",
    "\n",
    "    response_text = analyze_email(sender, content)\n",
    "\n",
    "    return jsonify({\"reply\": response_text})\n",
    "\n",
    "if __name__ == \"__main__\":\n",
    "    app.run(host=\"0.0.0.0\", port=5000)"
   ]
  },
  {
   "cell_type": "markdown",
   "metadata": {},
   "source": [
    "Тест-кейс 1\n",
    "\n",
    "\"Иванов\n",
    "\n",
    "Обед\n",
    "\n",
    "Привет, ты на обед в 2 или в 3 пойдешь?\n",
    "Еда в столовой — это всегда интересное сочетание вкусов и ароматов. Здесь можно попробовать разнообразные блюда, от классических супов до сытных гарниров и десертов. В обеденное время столовая наполняется аппетитными запахами свежесваренных борщей, жареной картошки и ароматной выпечки. Каждый день меню обновляется, предлагая новые варианты для любителей разнообразия.\""
   ]
  },
  {
   "cell_type": "code",
   "execution_count": 19,
   "metadata": {},
   "outputs": [
    {
     "name": "stdout",
     "output_type": "stream",
     "text": [
      "Результат анализа: Маркировка: mail_simple (Нет необходимости в ответе)\n"
     ]
    }
   ],
   "source": [
    "file_path = \"email_test_v1/email1.txt\"  # Укажите путь к файлу с письмом\n",
    "subject, sender, content = read_email_from_file(file_path)\n",
    "result = analyze_email(subject, sender, content)\n",
    "print(\"Результат анализа:\", result)"
   ]
  },
  {
   "cell_type": "markdown",
   "metadata": {},
   "source": [
    "Тест-кейс 2\n",
    "\n",
    "\"Сидоров\n",
    "\n",
    "Тренажерный зал\n",
    "\n",
    "Привет.\n",
    "Когда с нами начнешь ходить?\n",
    "Тренажерный зал оставил приятное впечатление благодаря современному оборудованию и просторным помещениям. Персонал вежливый и всегда готов помочь с настройкой тренажеров или советом по тренировкам. Особенно порадовала зона кардио с новыми беговыми дорожками и велотренажерами. Чистота и порядок также на высоком уровне, что делает тренировки комфортными и приятными.\""
   ]
  },
  {
   "cell_type": "code",
   "execution_count": 20,
   "metadata": {},
   "outputs": [
    {
     "name": "stdout",
     "output_type": "stream",
     "text": [
      "Результат анализа: Маркировка: mail_simple (Нет необходимости в ответе)\n"
     ]
    }
   ],
   "source": [
    "file_path = \"email_test_v1/email2.txt\"  # Укажите путь к файлу с письмом\n",
    "subject, sender, content = read_email_from_file(file_path)\n",
    "result = analyze_email(subject, sender, content)\n",
    "print(\"Результат анализа:\", result)"
   ]
  },
  {
   "cell_type": "markdown",
   "metadata": {},
   "source": [
    "Тест-кейс 3\n",
    "\n",
    "\"Греф\n",
    "\n",
    "Человекоцентричность как миссия\n",
    "\n",
    "Друзья, помним: Человекоцентричность в Сбере проявляется в приоритете интересов клиентов и сотрудников. Компания стремится создавать продукты и услуги, которые делают жизнь людей проще и удобнее. Важную роль играет забота о персонале, развитие корпоративной культуры и поддержка инициатив, направленных на улучшение условий труда.\""
   ]
  },
  {
   "cell_type": "code",
   "execution_count": 21,
   "metadata": {},
   "outputs": [
    {
     "name": "stdout",
     "output_type": "stream",
     "text": [
      "Результат анализа: Маркировка: mail_boss\n",
      "Ответ GigaChat: Ваше сообщение выглядит так:\n",
      "\n",
      "**Тема: Важная задача**\n",
      "\n",
      "Уважаемый [Имя Отчество]!\n",
      "\n",
      "Прошу Вас незамедлительно приступить к выполнению важной задачи. Ответственность за выполнение этой задачи лежит полностью на Вас. Вам необходимо собрать всю необходимую информацию и представить отчет по текущему проекту XYZ до конца недели. \n",
      "\n",
      "Пожалуйста, предоставьте мне план действий и сроки выполнения задачи как можно скорее.\n",
      "\n",
      "С уважением,  \n",
      "[Ваша должность]  \n",
      "[Ваше имя]\n"
     ]
    }
   ],
   "source": [
    "file_path = \"email_test_v1/email3.txt\"  # Укажите путь к файлу с письмом\n",
    "subject, sender, content = read_email_from_file(file_path)\n",
    "result = analyze_email(subject, sender, content)\n",
    "print(\"Результат анализа:\", result)"
   ]
  },
  {
   "cell_type": "markdown",
   "metadata": {},
   "source": [
    "Тест-кейс 4\n",
    "\n",
    "\"Джейсонов\n",
    "\n",
    "В серверной авария!\n",
    "\n",
    "Авария в серверной произошла из-за затопления, вызванного прорывом водопроводной трубы. Вода повредила оборудование, что привело к остановке работы серверов и утрате части данных. Специалисты оперативно устранили причину затопления и начали восстановление системы, однако полное возвращение к нормальной работе потребует времени.\""
   ]
  },
  {
   "cell_type": "code",
   "execution_count": 22,
   "metadata": {},
   "outputs": [
    {
     "name": "stdout",
     "output_type": "stream",
     "text": [
      "Результат анализа:\n",
      " Маркировка: mail_trigger\n",
      "Ответ GigaChat: **Уведомление о сбое системы**\n",
      "\n",
      "Ваша система столкнулась со следующей проблемой: *Ошибка при выполнении операции*. Пожалуйста, подтвердите эту ошибку перед продолжением.\n",
      "\n",
      "### Возможные причины:\n",
      "1. Недостаточно ресурсов для выполнения задачи.\n",
      "2. Ошибка в коде программы или операционной системе.\n",
      "3. Проблемы с сетевым подключением или оборудованием.\n",
      "4. Временная ошибка сервера или базы данных.\n",
      "\n",
      "### Рекомендации по устранению ошибки:\n",
      "\n",
      "1. **Проверьте ресурсы системы**:\n",
      "   - Закройте ненужные приложения и процессы.\n",
      "   - Увеличьте объем памяти или дискового пространства, если это возможно.\n",
      "   \n",
      "2. **Обновите систему и программное обеспечение**:\n",
      "   - Проверьте наличие обновлений для операционной системы и приложений.\n",
      "   - Обновите драйверы оборудования до последних версий.\n",
      "\n",
      "3. **Перезагрузите систему**:\n",
      "   - Это может решить временные сбои и оптимизировать работу системы.\n",
      "\n",
      "4. **Проведите диагностику сети**:\n",
      "   - Переподключитесь к сети или проверьте соединение.\n",
      "   - Если используете удаленный доступ, убедитесь в стабильности соединения.\n",
      "\n",
      "5. **Свяжитесь с технической поддержкой**:\n",
      "   - Если ни одно из предложенных решений не помогло, обратитесь за помощью к специалистам поддержки.\n",
      "\n",
      "---\n",
      "\n",
      "**Текст уведомления:**\n",
      "\n",
      "```\n",
      "Subject: Ошибка в работе системы\n",
      "\n",
      "Ваша система столкнулась с ошибкой при выполнении операции. Пожалуйста, подтвердите данную ошибку перед продолжением работы.\n",
      "\n",
      "Возможные причины:\n",
      "- Недостаточно ресурсов для выполнения задачи.\n",
      "- Ошибка в коде программы или операционной системе.\n",
      "- Проблемы с сетевым подключением или оборудованием.\n",
      "- Временная ошибка сервера или базы данных.\n",
      "\n",
      "Рекомендации по устранению ошибки:\n",
      "1. Проверьте ресурсы системы:\n",
      "   - Закройте ненужные приложения и процессы.\n",
      "   - Увеличьте объем памяти или дискового пространства, если это возможно.\n",
      "   \n",
      "2. Обновите систему и программное обеспечение:\n",
      "   - Проверьте наличие обновлений для операционной системы и приложений.\n",
      "   - Обновите драйверы оборудования до последних версий.\n",
      "\n",
      "3. Перезагрузите систему:\n",
      "   - Это может решить временные сбои и оптимизировать работу системы.\n",
      "\n",
      "4. Проведите диагностику сети:\n",
      "   - Переподключитесь к сети или проверьте соединение.\n",
      "   - Если используете удаленный доступ, убедитесь в стабильности соединения.\n",
      "\n",
      "5. Свяжитесь с технической поддержкой:\n",
      "   - Если ни одно из предложенных решений не помогло, обратитесь за помощью к специалистам поддержки.\n",
      "\n",
      "Подтверждение ошибки:\n",
      "```\n",
      "\n",
      "Этот формат уведомления соответствует стандартным шаблонам сообщений о сбоях в системах, чтобы пользователь мог оперативно отреагировать на проблему.\n"
     ]
    }
   ],
   "source": [
    "file_path = \"email_test_v1/email4.txt\"  # Укажите путь к файлу с письмом\n",
    "subject, sender, content = read_email_from_file(file_path)\n",
    "result = analyze_email(subject, sender, content)\n",
    "print(\"Результат анализа:\\n\", result)"
   ]
  },
  {
   "cell_type": "markdown",
   "metadata": {},
   "source": [
    "Тест-кейс 5\n",
    "\n",
    "\"Фишер\n",
    "\n",
    "Обнаружен сбой на ИФТ\n",
    "\n",
    "Молодой стажер Михаил случайно удалил рабочую базу данных, перепутав её с тестовой. Поняв свою ошибку, он попытался всё исправить, но данные были утрачены. Начальник отдела вызвал его на разговор, но, к удивлению Михаила, оказался понимающим. Коллеги восстановили данные из резервных копий, а сам инцидент стал ценным уроком для стажера.\""
   ]
  },
  {
   "cell_type": "code",
   "execution_count": 23,
   "metadata": {},
   "outputs": [
    {
     "name": "stdout",
     "output_type": "stream",
     "text": [
      "Результат анализа: Маркировка: mail_boss_and_trigger\n",
      "Ответ GigaChat: **Уведомление о сбое системы**\n",
      "\n",
      "**Краткое описание проблемы:**\n",
      "Не удалось загрузить основную библиотеку приложения `libstdc++`, что привело к остановке работы программы.\n",
      "\n",
      "**Предлагаемое решение:**\n",
      "1. Убедитесь, что у вас установлена версия дистрибутива операционной системы, поддерживающая запуск данной версии программы.\n",
      "2. Проверьте наличие всех необходимых пакетов для вашей операционной системы. Если они отсутствуют, установите их вручную через менеджеры пакетов.\n",
      "3. Перезагрузите систему и попробуйте снова запустить программу.\n",
      "4. Если проблема сохраняется, обновите саму программу до последней версии.\n",
      "5. В случае неудачи обратитесь к администратору системы или разработчикам программы для получения дополнительной помощи.\n",
      "\n",
      "---\n",
      "\n",
      "Вот письмо, которое я взял из текстового файла:\n",
      "\n",
      "---\n",
      "\n",
      "**Текст письма:**\n",
      "\n",
      "```\n",
      "Уважаемый пользователь!\n",
      "\n",
      "Сообщаем вам, что произошла ошибка при запуске программы. Не удалось загрузить основную библиотеку приложения `libstdc++`. Это могло произойти по нескольким причинам:\n",
      "\n",
      "1. Ваша версия операционной системы может не поддерживать данное приложение.\n",
      "2. Возможно, некоторые необходимые пакеты отсутствуют в системе.\n",
      "3. Возможно, произошел сбой в работе самой программы.\n",
      "\n",
      "Рекомендации:\n",
      "1. Убедитесь, что у вас установлена подходящая версия операционной системы.\n",
      "2. Проверьте наличие всех необходимых пакетов для вашей операционной системы. Если они отсутствуют, установите их вручную через менеджеры пакетов.\n",
      "3. Перезагрузите систему и попробуйте снова запустить программу.\n",
      "4. Если проблема сохраняется, обновите саму программу до последней версии.\n",
      "5. В случае неудачи обратитесь к администратору системы или разработчикам программы для получения дополнительной помощи.\n",
      "\n",
      "С уважением,\n",
      "Администратор системы\n",
      "```\n",
      "\n",
      "Это письмо является примером формата уведомлений, которые могут отправляться пользователям в случае системных ошибок.\n"
     ]
    }
   ],
   "source": [
    "file_path = \"email_test_v1/email5.txt\"  # Укажите путь к файлу с письмом\n",
    "subject, sender, content = read_email_from_file(file_path)\n",
    "result = analyze_email(subject, sender, content)\n",
    "print(\"Результат анализа:\", result)"
   ]
  },
  {
   "cell_type": "code",
   "execution_count": null,
   "metadata": {},
   "outputs": [],
   "source": []
  }
 ],
 "metadata": {
  "kernelspec": {
   "display_name": ".venv",
   "language": "python",
   "name": "python3"
  },
  "language_info": {
   "codemirror_mode": {
    "name": "ipython",
    "version": 3
   },
   "file_extension": ".py",
   "mimetype": "text/x-python",
   "name": "python",
   "nbconvert_exporter": "python",
   "pygments_lexer": "ipython3",
   "version": "3.11.9"
  }
 },
 "nbformat": 4,
 "nbformat_minor": 2
}
